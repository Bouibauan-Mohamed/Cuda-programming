{
 "cells": [
  {
   "attachments": {},
   "cell_type": "markdown",
   "metadata": {},
   "source": []
  },
  {
   "cell_type": "code",
   "execution_count": null,
   "metadata": {},
   "outputs": [],
   "source": []
  },
  {
   "cell_type": "markdown",
   "metadata": {},
   "source": [
    "<h1 style=\"color:red;\"><center> Cuda Docummentation </center></h1> "
   ]
  },
  {
   "cell_type": "markdown",
   "metadata": {},
   "source": []
  },
  {
   "cell_type": "code",
   "execution_count": null,
   "metadata": {
    "colab": {
     "base_uri": "https://localhost:8080/"
    },
    "id": "PYgfzx716cul",
    "outputId": "8d0b5966-47f7-4d02-8ea0-3a4efef409f9"
   },
   "outputs": [],
   "source": [
    "!apt-get --purge remove cuda nvidia* libnvidia-*\n",
    "!dpkg -l | grep cuda- | awk '{print $2}' | xargs -n1 dpkg --purge\n",
    "!apt-get remove cuda-*\n",
    "!apt autoremove\n",
    "!apt-get update"
   ]
  },
  {
   "cell_type": "code",
   "execution_count": null,
   "metadata": {
    "colab": {
     "base_uri": "https://localhost:8080/"
    },
    "id": "J53Kgux66iVM",
    "outputId": "60039f4d-510c-4611-ae25-0c9b8453384b"
   },
   "outputs": [],
   "source": [
    "!wget https://developer.nvidia.com/compute/cuda/9.2/Prod/local_installers/cuda-repo-ubuntu1604-9-2-local_9.2.88-1_amd64 -O cuda-repo-ubuntu1604-9-2-local_9.2.88-1_amd64.deb\n",
    "!dpkg -i cuda-repo-ubuntu1604-9-2-local_9.2.88-1_amd64.deb\n",
    "!apt-key add /var/cuda-repo-9-2-local/7fa2af80.pub\n",
    "!apt-get update\n",
    "!apt-get install cuda-9.2"
   ]
  },
  {
   "cell_type": "code",
   "execution_count": null,
   "metadata": {
    "colab": {
     "base_uri": "https://localhost:8080/"
    },
    "id": "3gOHCFFI6oco",
    "outputId": "1b0b4762-96d6-4462-dd76-2412d73d4671"
   },
   "outputs": [],
   "source": [
    "!nvcc --version"
   ]
  },
  {
   "cell_type": "code",
   "execution_count": null,
   "metadata": {
    "colab": {
     "base_uri": "https://localhost:8080/"
    },
    "id": "UbHcPpz98h9g",
    "outputId": "e87edce7-0eb0-4e1a-feb7-4e0aed9fbc46"
   },
   "outputs": [],
   "source": [
    "!pip install git+git://github.com/andreinechaev/nvcc4jupyter.git"
   ]
  },
  {
   "cell_type": "code",
   "execution_count": null,
   "metadata": {
    "colab": {
     "base_uri": "https://localhost:8080/"
    },
    "id": "m-RBc6Ja8lk0",
    "outputId": "69e7ec43-b144-4487-e28e-5ce251fbe7a5"
   },
   "outputs": [],
   "source": [
    "%load_ext nvcc_plugin"
   ]
  },
  {
   "cell_type": "markdown",
   "metadata": {
    "id": "0fsL6X_G8s8m"
   },
   "source": [
    "<h1><center>Partie Code</center></h1>  \n",
    "\n",
    "\n",
    "\n"
   ]
  },
  {
   "cell_type": "markdown",
   "metadata": {
    "id": "xaligj3x9q1g"
   },
   "source": [
    "Hello Word!  :)"
   ]
  },
  {
   "cell_type": "code",
   "execution_count": 116,
   "metadata": {
    "colab": {
     "base_uri": "https://localhost:8080/"
    },
    "id": "8UTR3MEN9ANI",
    "outputId": "7f3cfbd6-21f4-495e-82cf-d09918161d2a"
   },
   "outputs": [
    {
     "name": "stdout",
     "output_type": "stream",
     "text": [
      "\n"
     ]
    }
   ],
   "source": [
    "%%cu\n",
    "\n",
    "#include<stdio.h>\n",
    "#include<stdlib.h>\n",
    "#include<cuda.h>\n",
    "\n",
    "__global__ void  Hello(){\n",
    "    \n",
    "printf(\"Hello Word ! I' am GPU\");\n",
    "\n",
    "}\n",
    "int main(){\n",
    "\n",
    "Hello<<<1,1>>>();\n",
    "\n",
    "\n",
    "    return 0;\n",
    "}\n",
    "\n",
    "\n"
   ]
  },
  {
   "cell_type": "markdown",
   "metadata": {
    "id": "eoUgCXphLF7O"
   },
   "source": [
    "  <h5><center>Adddition de deux nombre</center></h5>               "
   ]
  },
  {
   "cell_type": "code",
   "execution_count": 117,
   "metadata": {
    "colab": {
     "base_uri": "https://localhost:8080/"
    },
    "id": "siM_szVNLES9",
    "outputId": "929124c8-9fec-4c7b-98f8-acafe2f908ba"
   },
   "outputs": [
    {
     "name": "stdout",
     "output_type": "stream",
     "text": [
      "la somme  des deux Nombre calculer par GPU est 6\n"
     ]
    }
   ],
   "source": [
    "%%cu\n",
    "#include<stdio.h>\n",
    "#include<stdlib.h>\n",
    "#include<cuda.h>\n",
    "#define size sizeof(int)\n",
    "\n",
    "__global__ void  Add(int *a, int *b,int *c){\n",
    "  int i = blockIdx.x ;\n",
    "    \n",
    "           c[i]=a[i]+b[i];\n",
    "\n",
    "}\n",
    "\n",
    "\n",
    "int main(){\n",
    "int *a,*b,*c;\n",
    "int  *a_d,*b_d,*c_d;\n",
    "int f = 2;\n",
    "int d = 4 ;\n",
    "\n",
    "a=(int*)malloc(size);\n",
    "b=(int*)malloc(size);\n",
    "\n",
    "*a=f;\n",
    "*b=d;\n",
    "c=(int*)malloc(size);\n",
    "cudaMalloc((void**)&a_d,size);\n",
    "cudaMalloc((void**)&b_d,size);\n",
    "cudaMalloc((void**)&c_d,size);\n",
    "\n",
    "\n",
    "cudaMemcpy(a_d,a,size,cudaMemcpyHostToDevice);\n",
    "cudaMemcpy(b_d,b,size,cudaMemcpyHostToDevice);\n",
    "\n",
    "Add<<<1,1>>>(a_d,b_d,c_d);\n",
    "cudaMemcpy(c,c_d,size,cudaMemcpyDeviceToHost);\n",
    "\n",
    "\n",
    "\n",
    "printf(\"la somme  des deux Nombre calculer par GPU est %d\",*c);\n",
    "\n",
    "    cudaFree(a_d);\n",
    "    cudaFree(b_d);\n",
    "    cudaFree(c_d);\n",
    "\n",
    "\n",
    "    return 0;\n",
    "}"
   ]
  },
  {
   "cell_type": "markdown",
   "metadata": {
    "id": "06xGiLd-6bNL"
   },
   "source": [
    "   <h5><center> Addition de deux vecteur avec N block et 1 Thread</center></h5>   "
   ]
  },
  {
   "cell_type": "code",
   "execution_count": 119,
   "metadata": {
    "colab": {
     "base_uri": "https://localhost:8080/"
    },
    "id": "3JPhrCuHy4j7",
    "outputId": "2f966a5e-746b-420f-e38d-1324388fba99"
   },
   "outputs": [
    {
     "name": "stdout",
     "output_type": "stream",
     "text": [
      "\n",
      "  elements of first array :\n",
      "83\t86\t77\t15\t93\t35\t86\t92\t49\t21\t62\t27\t90\t59\t63\t26\t40\t26\t72\t36\t11\t68\t67\t29\t82\t30\t62\t23\t67\t35\t29\t2\t22\t58\t69\t67\t93\t56\t11\t42\t29\t73\t21\t19\t84\t37\t98\t24\t15\t70\t13\t26\t91\t80\t56\t73\t62\t70\t96\t81\t5\t25\t84\t27\t36\t5\t46\t29\t13\t57\t24\t95\t82\t45\t14\t67\t34\t64\t43\t50\t87\t8\t76\t78\t88\t84\t3\t51\t54\t99\t32\t60\t76\t68\t39\t12\t26\t86\t94\t39\t95\t70\t34\t78\t67\t1\t97\t2\t17\t92\t52\t56\t1\t80\t86\t41\t65\t89\t44\t19\t40\t29\t31\t17\t97\t71\t81\t75\t9\t27\t67\t56\t97\t53\t86\t65\t6\t83\t19\t24\t28\t71\t32\t29\t3\t19\t70\t68\t8\t15\t40\t49\t96\t23\t18\t45\t46\t51\t21\t55\t79\t88\t64\t28\t41\t50\t93\t0\t34\t64\t24\t14\t87\t56\t43\t91\t27\t65\t59\t36\t32\t51\t37\t28\t75\t7\t74\t21\t58\t95\t29\t37\t35\t93\t18\t28\t43\t11\t28\t29\t76\t4\t43\t63\t13\t38\t6\t40\t4\t18\t28\t88\t69\t17\t17\t96\t24\t43\t70\t83\t90\t99\t72\t25\t44\t90\t5\t39\t54\t86\t69\t82\t42\t64\t97\t7\t55\t4\t48\t11\t22\t28\t99\t43\t46\t68\t40\t22\t11\t10\t5\t1\t61\t30\t78\t5\t20\t36\t44\t26\t22\t65\t8\t16\t82\t58\t24\t37\t62\t24\t0\t36\t52\t99\t79\t50\t68\t71\t73\t31\t81\t30\t33\t94\t60\t63\t99\t81\t99\t96\t59\t73\t13\t68\t90\t95\t26\t66\t84\t40\t90\t84\t76\t42\t36\t7\t45\t56\t79\t18\t87\t12\t48\t72\t59\t9\t36\t10\t42\t87\t6\t1\t13\t72\t21\t55\t19\t99\t21\t4\t39\t11\t40\t67\t5\t28\t27\t50\t84\t58\t20\t24\t22\t69\t96\t81\t30\t84\t92\t72\t72\t50\t25\t85\t22\t99\t40\t42\t98\t13\t98\t90\t24\t90\t9\t81\t19\t36\t32\t55\t94\t4\t79\t69\t73\t76\t50\t55\t60\t42\t79\t84\t93\t5\t21\t67\t4\t13\t61\t54\t26\t59\t44\t2\t2\t6\t84\t21\t42\t68\t28\t89\t72\t8\t58\t98\t36\t8\t53\t48\t3\t33\t33\t48\t90\t54\t67\t46\t68\t29\t0\t46\t88\t97\t49\t90\t3\t33\t63\t97\t53\t92\t86\t25\t52\t96\t75\t88\t57\t29\t36\t60\t14\t21\t60\t4\t28\t27\t50\t48\t56\t2\t94\t97\t99\t43\t39\t2\t28\t3\t0\t81\t47\t38\t59\t51\t35\t34\t39\t92\t15\t27\t4\t29\t49\t64\t85\t29\t43\t35\t77\t0\t38\t71\t49\t89\t67\t88\t92\t95\t43\t44\t29\t90\t82\t40\t41\t69\t26\t32\t61\t42\t60\t17\t23\t61\t81\t9\t90\t25\t96\t67\t\n",
      "  elements of second array :\n",
      "77\t34\t90\t26\t24\t57\t14\t68\t5\t58\t12\t86\t0\t46\t26\t94\t16\t52\t78\t29\t46\t90\t47\t70\t51\t80\t31\t93\t57\t27\t12\t86\t14\t55\t12\t90\t12\t79\t10\t69\t89\t74\t55\t41\t20\t33\t87\t88\t38\t66\t70\t84\t56\t17\t6\t60\t49\t37\t5\t59\t17\t18\t45\t83\t73\t58\t73\t37\t89\t83\t7\t78\t57\t14\t71\t29\t0\t59\t18\t38\t25\t88\t74\t33\t57\t81\t93\t58\t70\t99\t17\t39\t69\t63\t22\t94\t73\t47\t31\t62\t82\t90\t92\t91\t57\t15\t21\t57\t74\t91\t47\t51\t31\t21\t37\t40\t54\t30\t98\t25\t81\t16\t16\t2\t31\t39\t96\t4\t38\t80\t18\t21\t70\t62\t12\t79\t77\t85\t36\t4\t76\t83\t7\t59\t57\t44\t99\t11\t27\t50\t36\t60\t18\t5\t63\t49\t44\t11\t5\t34\t91\t75\t55\t14\t89\t68\t93\t18\t5\t82\t22\t82\t17\t30\t93\t74\t26\t93\t86\t53\t43\t74\t14\t13\t79\t77\t62\t75\t88\t19\t10\t32\t94\t17\t46\t35\t37\t91\t53\t43\t73\t28\t25\t91\t10\t18\t17\t36\t63\t55\t90\t58\t30\t4\t71\t61\t33\t85\t89\t73\t4\t51\t5\t50\t68\t3\t85\t6\t95\t39\t49\t20\t67\t26\t63\t77\t96\t81\t65\t60\t36\t55\t70\t18\t11\t42\t32\t96\t79\t21\t70\t84\t72\t27\t34\t40\t83\t72\t98\t30\t63\t47\t50\t30\t73\t14\t59\t22\t47\t24\t82\t35\t32\t4\t54\t43\t98\t86\t40\t78\t59\t62\t62\t83\t41\t48\t23\t24\t72\t22\t54\t35\t21\t57\t65\t47\t71\t76\t69\t18\t1\t3\t53\t33\t7\t59\t28\t6\t97\t20\t84\t8\t34\t98\t91\t76\t98\t15\t52\t71\t89\t59\t6\t10\t16\t24\t9\t39\t0\t78\t9\t53\t81\t14\t38\t89\t26\t67\t47\t23\t87\t31\t32\t22\t81\t75\t50\t79\t90\t54\t50\t31\t13\t57\t94\t81\t81\t3\t20\t33\t82\t81\t87\t15\t96\t25\t4\t22\t92\t51\t97\t32\t34\t81\t6\t15\t57\t8\t95\t99\t62\t97\t83\t76\t54\t77\t9\t87\t32\t82\t21\t66\t63\t60\t82\t11\t85\t86\t85\t30\t90\t83\t14\t76\t16\t20\t92\t25\t28\t39\t25\t90\t36\t60\t18\t43\t37\t28\t82\t21\t10\t55\t88\t25\t15\t70\t37\t53\t8\t22\t83\t50\t57\t97\t27\t26\t69\t71\t51\t49\t10\t28\t39\t98\t88\t10\t93\t77\t90\t76\t99\t52\t31\t87\t77\t99\t57\t66\t52\t17\t41\t35\t68\t98\t84\t95\t76\t5\t66\t28\t54\t28\t8\t93\t78\t97\t55\t72\t74\t45\t0\t25\t97\t83\t12\t27\t82\t21\t93\t34\t39\t34\t21\t59\t85\t57\t54\t61\t62\t72\t41\t16\t52\t50\t62\t82\t99\t17\t54\t73\t15\t6\tlLes Variables de device GPUallocation du mamoire de GPUcopy data de CPU ver GPU exeucion sur gpu de fonction addle resultat est :\n",
      "160\t120\t167\t41\t117\t92\t100\t160\t54\t79\t74\t113\t90\t105\t89\t120\t56\t78\t150\t65\t57\t158\t114\t99\t133\t110\t93\t116\t124\t62\t41\t88\t36\t113\t81\t157\t105\t135\t21\t111\t118\t147\t76\t60\t104\t70\t185\t112\t53\t136\t83\t110\t147\t97\t62\t133\t111\t107\t101\t140\t22\t43\t129\t110\t109\t63\t119\t66\t102\t140\t31\t173\t139\t59\t85\t96\t34\t123\t61\t88\t112\t96\t150\t111\t145\t165\t96\t109\t124\t198\t49\t99\t145\t131\t61\t106\t99\t133\t125\t101\t177\t160\t126\t169\t124\t16\t118\t59\t91\t183\t99\t107\t32\t101\t123\t81\t119\t119\t142\t44\t121\t45\t47\t19\t128\t110\t177\t79\t47\t107\t85\t77\t167\t115\t98\t144\t83\t168\t55\t28\t104\t154\t39\t88\t60\t63\t169\t79\t35\t65\t76\t109\t114\t28\t81\t94\t90\t62\t26\t89\t170\t163\t119\t42\t130\t118\t186\t18\t39\t146\t46\t96\t104\t86\t136\t165\t53\t158\t145\t89\t75\t125\t51\t41\t154\t84\t136\t96\t146\t114\t39\t69\t129\t110\t64\t63\t80\t102\t81\t72\t149\t32\t68\t154\t23\t56\t23\t76\t67\t73\t118\t146\t99\t21\t88\t157\t57\t128\t159\t156\t94\t150\t77\t75\t112\t93\t90\t45\t149\t125\t118\t102\t109\t90\t160\t84\t151\t85\t113\t71\t58\t83\t169\t61\t57\t110\t72\t118\t90\t31\t75\t85\t133\t57\t112\t45\t103\t108\t142\t56\t85\t112\t58\t46\t155\t72\t83\t59\t109\t48\t82\t71\t84\t103\t133\t93\t166\t157\t113\t109\t140\t92\t95\t177\t101\t111\t122\t105\t171\t118\t113\t108\t34\t125\t155\t142\t97\t142\t153\t58\t91\t87\t129\t75\t43\t66\t73\t62\t176\t38\t171\t20\t82\t170\t150\t85\t134\t25\t94\t158\t95\t60\t19\t82\t37\t79\t28\t138\t21\t82\t48\t64\t121\t81\t43\t117\t53\t117\t131\t81\t107\t55\t54\t91\t177\t156\t80\t163\t182\t126\t122\t81\t38\t142\t116\t180\t121\t45\t118\t46\t180\t171\t111\t105\t105\t106\t23\t58\t124\t106\t191\t36\t113\t150\t79\t91\t107\t63\t155\t141\t141\t181\t176\t81\t75\t144\t13\t100\t93\t136\t47\t125\t107\t62\t84\t17\t169\t107\t127\t98\t118\t172\t86\t84\t74\t118\t128\t33\t81\t87\t28\t123\t69\t108\t108\t97\t104\t74\t150\t50\t10\t101\t176\t122\t64\t160\t40\t86\t71\t119\t136\t142\t143\t122\t79\t122\t144\t159\t108\t78\t46\t88\t53\t119\t148\t14\t121\t104\t140\t124\t155\t54\t125\t184\t176\t142\t96\t68\t80\t20\t41\t116\t115\t136\t143\t146\t111\t39\t105\t120\t69\t55\t12\t122\t127\t161\t140\t101\t117\t80\t77\t25\t135\t154\t61\t116\t149\t109\t185\t129\t82\t78\t50\t149\t167\t97\t95\t130\t88\t104\t102\t58\t112\t67\t85\t143\t180\t26\t144\t98\t111\t73\t\n"
     ]
    }
   ],
   "source": [
    "%%cu\n",
    "#include<stdio.h>\n",
    "#include <malloc.h>\n",
    "#include<cuda.h>\n",
    "#include<stdlib.h>\n",
    "#define N 512\n",
    "__global__ void ad( int *a, int *b, int *c ) { \n",
    "    \n",
    "\n",
    "        int i = blockIdx.x * blockDim.x + threadIdx.x;\n",
    "    \n",
    "           c[i]=a[i]+b[i];\n",
    "\n",
    "    \n",
    " \n",
    "           \n",
    "}\n",
    "\n",
    "int main(){\n",
    "\n",
    "int a[N],b[N],c[N];\n",
    "int *A_a,*B_b,*C_c;\n",
    "int size = N * sizeof(int);\n",
    "\n",
    "printf(\"\\n  elements of first array :\\n\");\n",
    "    for(int i=0;i<N;i++)\n",
    "    {   \n",
    "        \n",
    "       a[i]=rand()%100;;\n",
    "     printf(\"%d\\t\",a[i]);\n",
    "    }\n",
    "    printf(\"\\n  elements of second array :\\n\");\n",
    "        for(int i=0;i<N;i++)\n",
    "        {\n",
    "            b[i]=rand()%100;\n",
    "         printf(\"%d\\t\",b[i]);\n",
    "        }\n",
    "\n",
    "\n",
    "printf(\"lLes Variables de device GPU\");\n",
    "\n",
    "printf(\"allocation du mamoire de GPU\");\n",
    "cudaMalloc(&A_a,size);\n",
    "cudaMalloc(&B_b,size);\n",
    "cudaMalloc(&C_c,size);\n",
    "\n",
    "\n",
    "printf(\"copy data de CPU ver GPU \");\n",
    "cudaMemcpy(A_a,&a, size, cudaMemcpyHostToDevice);\n",
    "cudaMemcpy(B_b,&b, size, cudaMemcpyHostToDevice);\n",
    "cudaMemcpy(C_c,&c, size, cudaMemcpyHostToDevice);\n",
    "\n",
    "\n",
    "\n",
    "\n",
    "printf(\"exeucion sur gpu de fonction add\");\n",
    "ad <<< N , 1 >>> ( A_a , B_b , C_c );\n",
    "\n",
    "\n",
    "cudaMemcpy (&c ,C_c, size , cudaMemcpyDeviceToHost ) ;\n",
    "printf(\"le resultat est :\\n\");\n",
    "for(int i=0;i<N;i++){\n",
    "printf(\"%d\\t\",c[i]);}\n",
    "\n",
    "\n",
    "\n",
    "\n",
    "\n",
    "    return 0;\n",
    "}"
   ]
  },
  {
   "cell_type": "markdown",
   "metadata": {
    "id": "dzv2u6j9655V"
   },
   "source": [
    "<h5><center>1 block   avec  N thread</center></h5>   \n",
    "   \n",
    "   \n"
   ]
  },
  {
   "cell_type": "code",
   "execution_count": null,
   "metadata": {
    "colab": {
     "base_uri": "https://localhost:8080/"
    },
    "id": "9VuALd3i7Q2w",
    "outputId": "91911212-2d16-489b-f249-4931b3ef289c"
   },
   "outputs": [],
   "source": [
    "%%cu\n",
    "#include<stdio.h>\n",
    "#include <malloc.h>\n",
    "#include<cuda.h>\n",
    "#include<stdlib.h>\n",
    "#define N 512\n",
    "__global__ void ad( int *a, int *b, int *c ) { \n",
    "    \n",
    "\n",
    "        int i = blockIdx.x * blockDim.x + threadIdx.x;\n",
    "    \n",
    "           c[i]=a[i]+b[i];\n",
    "\n",
    "    \n",
    " \n",
    "           \n",
    "}\n",
    "\n",
    "int main(){\n",
    "\n",
    "int a[N],b[N],c[N];\n",
    "int *A_a,*B_b,*C_c;\n",
    "int size = N * sizeof(int);\n",
    "\n",
    "printf(\"\\n  elements of first array :\\n\");\n",
    "    for(int i=0;i<N;i++)\n",
    "    {   \n",
    "        \n",
    "       a[i]=rand()%100;;\n",
    "     printf(\"%d\\t\",a[i]);\n",
    "    }\n",
    "    printf(\"\\n  elements of second array :\\n\");\n",
    "        for(int i=0;i<N;i++)\n",
    "        {\n",
    "            b[i]=rand()%100;\n",
    "         printf(\"%d\\t\",b[i]);\n",
    "        }\n",
    "\n",
    "\n",
    "printf(\"lLes Variables de device GPU\");\n",
    "\n",
    "printf(\"allocation du mamoire de GPU\");\n",
    "cudaMalloc(&A_a,size);\n",
    "cudaMalloc(&B_b,size);\n",
    "cudaMalloc(&C_c,size);\n",
    "\n",
    "\n",
    "printf(\"copy data de CPU ver GPU \");\n",
    "cudaMemcpy(A_a,&a, size, cudaMemcpyHostToDevice);\n",
    "cudaMemcpy(B_b,&b, size, cudaMemcpyHostToDevice);\n",
    "cudaMemcpy(C_c,&c, size, cudaMemcpyHostToDevice);\n",
    "\n",
    "\n",
    "\n",
    "\n",
    "printf(\"exeucion sur gpu de fonction add\");\n",
    "ad <<< 1 , N>>> ( A_a , B_b , C_c );\n",
    "\n",
    "\n",
    "cudaMemcpy (&c ,C_c, size , cudaMemcpyDeviceToHost ) ;\n",
    "printf(\"le resultat est :\\n\");\n",
    "for(int i=0;i<N;i++){\n",
    "printf(\"%d\\t\",c[i]);}\n",
    "\n",
    "\n",
    "\n",
    "\n",
    "\n",
    "    return 0;\n",
    "}"
   ]
  },
  {
   "cell_type": "markdown",
   "metadata": {
    "id": "rFyIdAj2B_NE"
   },
   "source": [
    "<h5><center>8 block  64 Thread</center></h5> "
   ]
  },
  {
   "cell_type": "code",
   "execution_count": null,
   "metadata": {
    "colab": {
     "base_uri": "https://localhost:8080/"
    },
    "id": "4_o348_MBzdZ",
    "outputId": "12b20038-0a3d-43b3-ee19-482f3c3f8ab7"
   },
   "outputs": [],
   "source": [
    "%%cu\n",
    "#include<stdio.h>\n",
    "#include <malloc.h>\n",
    "#include<cuda.h>\n",
    "#include<stdlib.h>\n",
    "#define N 512\n",
    "__global__ void ad( int *a, int *b, int *c ) { \n",
    "    \n",
    "\n",
    "        int i = blockIdx.x * blockDim.x + threadIdx.x;\n",
    "    \n",
    "           c[i]=a[i]+b[i];\n",
    "\n",
    "    \n",
    " \n",
    "           \n",
    "}\n",
    "\n",
    "int main(){\n",
    "\n",
    "int a[N],b[N],c[N];\n",
    "int *A_a,*B_b,*C_c;\n",
    "int size = N * sizeof(int);\n",
    "\n",
    "printf(\"\\n  elements of first array :\\n\");\n",
    "    for(int i=0;i<N;i++)\n",
    "    {   \n",
    "        \n",
    "       a[i]=rand()%100;;\n",
    "     printf(\"%d\\t\",a[i]);\n",
    "    }\n",
    "    printf(\"\\n  elements of second array :\\n\");\n",
    "        for(int i=0;i<N;i++)\n",
    "        {\n",
    "            b[i]=rand()%100;\n",
    "         printf(\"%d\\t\",b[i]);\n",
    "        }\n",
    "\n",
    "\n",
    "printf(\"lLes Variables de device GPU\");\n",
    "\n",
    "printf(\"allocation du mamoire de GPU\");\n",
    "cudaMalloc(&A_a,size);\n",
    "cudaMalloc(&B_b,size);\n",
    "cudaMalloc(&C_c,size);\n",
    "\n",
    "\n",
    "printf(\"copy data de CPU ver GPU \");\n",
    "cudaMemcpy(A_a,&a, size, cudaMemcpyHostToDevice);\n",
    "cudaMemcpy(B_b,&b, size, cudaMemcpyHostToDevice);\n",
    "cudaMemcpy(C_c,&c, size, cudaMemcpyHostToDevice);\n",
    "\n",
    "\n",
    "\n",
    "\n",
    "printf(\"exeucion sur gpu de fonction add\");\n",
    "ad <<< 8 , N/8>>> ( A_a , B_b , C_c );\n",
    "\n",
    "\n",
    "cudaMemcpy (&c ,C_c, size , cudaMemcpyDeviceToHost ) ;\n",
    "printf(\"le resultat est :\\n\");\n",
    "for(int i=0;i<N;i++){\n",
    "printf(\"%d\\t\",c[i]);}\n",
    "\n",
    "\n",
    "\n",
    "\n",
    "\n",
    "    return 0;\n",
    "}"
   ]
  },
  {
   "cell_type": "markdown",
   "metadata": {
    "id": "-u96n9th-mw2"
   },
   "source": [
    "\n",
    "<h5><center>Temps d'execution  avec N bloc et 1 thread</center></h5>   \n",
    "\n",
    "\n",
    "\n",
    "\n",
    "\n"
   ]
  },
  {
   "cell_type": "code",
   "execution_count": 122,
   "metadata": {
    "colab": {
     "base_uri": "https://localhost:8080/"
    },
    "id": "7z03o6Fm7XxG",
    "outputId": "d1b77ae4-f18d-42e6-ffe7-2af23edfb1b0"
   },
   "outputs": [
    {
     "name": "stdout",
     "output_type": "stream",
     "text": [
      "\n",
      "  elements of first array :\n",
      "83\t86\t77\t15\t93\t35\t86\t92\t49\t21\t62\t27\t90\t59\t63\t26\t40\t26\t72\t36\t11\t68\t67\t29\t82\t30\t62\t23\t67\t35\t29\t2\t22\t58\t69\t67\t93\t56\t11\t42\t29\t73\t21\t19\t84\t37\t98\t24\t15\t70\t13\t26\t91\t80\t56\t73\t62\t70\t96\t81\t5\t25\t84\t27\t36\t5\t46\t29\t13\t57\t24\t95\t82\t45\t14\t67\t34\t64\t43\t50\t87\t8\t76\t78\t88\t84\t3\t51\t54\t99\t32\t60\t76\t68\t39\t12\t26\t86\t94\t39\t95\t70\t34\t78\t67\t1\t97\t2\t17\t92\t52\t56\t1\t80\t86\t41\t65\t89\t44\t19\t40\t29\t31\t17\t97\t71\t81\t75\t9\t27\t67\t56\t97\t53\t86\t65\t6\t83\t19\t24\t28\t71\t32\t29\t3\t19\t70\t68\t8\t15\t40\t49\t96\t23\t18\t45\t46\t51\t21\t55\t79\t88\t64\t28\t41\t50\t93\t0\t34\t64\t24\t14\t87\t56\t43\t91\t27\t65\t59\t36\t32\t51\t37\t28\t75\t7\t74\t21\t58\t95\t29\t37\t35\t93\t18\t28\t43\t11\t28\t29\t76\t4\t43\t63\t13\t38\t6\t40\t4\t18\t28\t88\t69\t17\t17\t96\t24\t43\t70\t83\t90\t99\t72\t25\t44\t90\t5\t39\t54\t86\t69\t82\t42\t64\t97\t7\t55\t4\t48\t11\t22\t28\t99\t43\t46\t68\t40\t22\t11\t10\t5\t1\t61\t30\t78\t5\t20\t36\t44\t26\t22\t65\t8\t16\t82\t58\t24\t37\t62\t24\t0\t36\t52\t99\t79\t50\t68\t71\t73\t31\t81\t30\t33\t94\t60\t63\t99\t81\t99\t96\t59\t73\t13\t68\t90\t95\t26\t66\t84\t40\t90\t84\t76\t42\t36\t7\t45\t56\t79\t18\t87\t12\t48\t72\t59\t9\t36\t10\t42\t87\t6\t1\t13\t72\t21\t55\t19\t99\t21\t4\t39\t11\t40\t67\t5\t28\t27\t50\t84\t58\t20\t24\t22\t69\t96\t81\t30\t84\t92\t72\t72\t50\t25\t85\t22\t99\t40\t42\t98\t13\t98\t90\t24\t90\t9\t81\t19\t36\t32\t55\t94\t4\t79\t69\t73\t76\t50\t55\t60\t42\t79\t84\t93\t5\t21\t67\t4\t13\t61\t54\t26\t59\t44\t2\t2\t6\t84\t21\t42\t68\t28\t89\t72\t8\t58\t98\t36\t8\t53\t48\t3\t33\t33\t48\t90\t54\t67\t46\t68\t29\t0\t46\t88\t97\t49\t90\t3\t33\t63\t97\t53\t92\t86\t25\t52\t96\t75\t88\t57\t29\t36\t60\t14\t21\t60\t4\t28\t27\t50\t48\t56\t2\t94\t97\t99\t43\t39\t2\t28\t3\t0\t81\t47\t38\t59\t51\t35\t34\t39\t92\t15\t27\t4\t29\t49\t64\t85\t29\t43\t35\t77\t0\t38\t71\t49\t89\t67\t88\t92\t95\t43\t44\t29\t90\t82\t40\t41\t69\t26\t32\t61\t42\t60\t17\t23\t61\t81\t9\t90\t25\t96\t67\t\n",
      "  elements of second array :\n",
      "77\t34\t90\t26\t24\t57\t14\t68\t5\t58\t12\t86\t0\t46\t26\t94\t16\t52\t78\t29\t46\t90\t47\t70\t51\t80\t31\t93\t57\t27\t12\t86\t14\t55\t12\t90\t12\t79\t10\t69\t89\t74\t55\t41\t20\t33\t87\t88\t38\t66\t70\t84\t56\t17\t6\t60\t49\t37\t5\t59\t17\t18\t45\t83\t73\t58\t73\t37\t89\t83\t7\t78\t57\t14\t71\t29\t0\t59\t18\t38\t25\t88\t74\t33\t57\t81\t93\t58\t70\t99\t17\t39\t69\t63\t22\t94\t73\t47\t31\t62\t82\t90\t92\t91\t57\t15\t21\t57\t74\t91\t47\t51\t31\t21\t37\t40\t54\t30\t98\t25\t81\t16\t16\t2\t31\t39\t96\t4\t38\t80\t18\t21\t70\t62\t12\t79\t77\t85\t36\t4\t76\t83\t7\t59\t57\t44\t99\t11\t27\t50\t36\t60\t18\t5\t63\t49\t44\t11\t5\t34\t91\t75\t55\t14\t89\t68\t93\t18\t5\t82\t22\t82\t17\t30\t93\t74\t26\t93\t86\t53\t43\t74\t14\t13\t79\t77\t62\t75\t88\t19\t10\t32\t94\t17\t46\t35\t37\t91\t53\t43\t73\t28\t25\t91\t10\t18\t17\t36\t63\t55\t90\t58\t30\t4\t71\t61\t33\t85\t89\t73\t4\t51\t5\t50\t68\t3\t85\t6\t95\t39\t49\t20\t67\t26\t63\t77\t96\t81\t65\t60\t36\t55\t70\t18\t11\t42\t32\t96\t79\t21\t70\t84\t72\t27\t34\t40\t83\t72\t98\t30\t63\t47\t50\t30\t73\t14\t59\t22\t47\t24\t82\t35\t32\t4\t54\t43\t98\t86\t40\t78\t59\t62\t62\t83\t41\t48\t23\t24\t72\t22\t54\t35\t21\t57\t65\t47\t71\t76\t69\t18\t1\t3\t53\t33\t7\t59\t28\t6\t97\t20\t84\t8\t34\t98\t91\t76\t98\t15\t52\t71\t89\t59\t6\t10\t16\t24\t9\t39\t0\t78\t9\t53\t81\t14\t38\t89\t26\t67\t47\t23\t87\t31\t32\t22\t81\t75\t50\t79\t90\t54\t50==23019== NVPROF is profiling process 23019, command: ./A\n",
      "\t31\t13\t57\t94\t81\t81\t3\t20\t33\t82\t81\t87\t15\t96\t25\t4\t22\t92\t51\t97\t32\t34\t81\t6\t15\t57\t8\t95\t99\t62\t97\t83\t76\t54\t77\t9\t87\t32\t82\t21\t66\t63\t60\t82\t11\t85\t86\t85\t30\t90\t83\t14\t76\t16\t20\t92\t25\t28\t39\t25\t90\t36\t60\t18\t43\t37\t28\t82\t21\t10\t55\t88\t25\t15\t70\t37\t53\t8\t22\t83\t50\t57\t97\t27\t26\t69\t71\t51\t49\t10\t28\t39\t98\t88\t10\t93\t77\t90\t76\t99\t52\t31\t87\t77\t99\t57\t66\t52\t17\t41\t35\t68\t98\t84\t95\t76\t5\t66\t28\t54\t28\t8\t93\t78\t97\t55\t72\t74\t45\t0\t25\t97\t83\t12\t27\t82\t21\t93\t34\t39\t34\t21\t59\t85\t57\t54\t61\t62\t72\t41\t16\t52\t50\t62\t82\t99\t17\t54\t73\t15\t6\tlLes Variables de device GPUallocation du mamoire de GPUcopy data de CPU ver GPU exeucion sur gpu de fonction addle resultat est :\n",
      "160\t120\t167\t41\t117\t92\t100\t160\t54\t79\t74\t113\t90\t105\t89\t120\t56\t78\t150\t65\t57\t158\t114\t99\t133\t110\t93\t116\t124\t62\t41\t88\t36\t113\t81\t157\t105\t135\t21\t111\t118\t147\t76\t60\t104\t70\t185\t112\t53\t136\t83\t110\t147\t97\t62\t133\t111\t107\t101\t140\t22\t43\t129\t110\t109\t63\t119\t66\t102\t140\t31\t173\t139\t59\t85\t96\t34\t123\t61\t88\t112\t96\t150\t111\t145\t165\t96\t109\t124\t198\t49\t99\t145\t131\t61\t106\t99\t133\t125\t101\t177\t160\t126\t169\t124\t16\t118\t59\t91\t183\t99\t107\t32\t101\t123\t81\t119\t119\t142\t44\t121\t45\t47\t19\t128\t110\t177\t79\t47\t107\t85\t77\t167\t115\t98\t144\t83\t168\t55\t28\t104\t154\t39\t88\t60\t63\t169\t79\t35\t65\t76\t109\t114\t28\t81\t94\t90\t62\t26\t89\t170\t163\t119\t42\t130\t118\t186\t18\t39\t146\t46\t96\t104\t86\t136\t165\t53\t158\t145\t89\t75\t125\t51\t41\t154\t84\t136\t96\t146\t114\t39\t69\t129\t110\t64\t63\t80\t102\t81\t72\t149\t32\t68\t154\t23\t56\t23\t76\t67\t73\t118\t146\t99\t21\t88\t157\t57\t128\t159\t156\t94\t150\t77\t75\t112\t93\t90\t45\t149\t125\t118\t102\t109\t90\t160\t84\t151\t85\t113\t71\t58\t83\t169\t61\t57\t110\t72\t118\t90\t31\t75\t85\t133\t57\t112\t45\t103\t108\t142\t56\t85\t112\t58\t46\t155\t72\t83\t59\t109\t48\t82\t71\t84\t103\t133\t93\t166\t157\t113\t109\t140\t92\t95\t177\t101\t111\t122\t105\t171\t118\t113\t108\t34\t125\t155\t142\t97\t142\t153\t58\t91\t87\t129\t75\t43\t66\t73\t62\t176\t38\t171\t20\t82\t170\t150\t85\t134\t25\t94\t158\t95\t60\t19\t82\t37\t79\t28\t138\t21\t82\t48\t64\t121\t81\t43\t117\t53\t117\t131\t81\t107\t55\t54\t91\t177\t156\t80\t163\t182\t126\t122\t81\t38\t142\t116\t180\t121\t45\t118\t46\t180\t171\t111\t105\t105\t106\t23\t58\t124\t106\t191\t36\t113\t150\t79\t91\t107\t63\t155\t141\t141\t181\t176\t81\t75\t144\t13\t100\t93\t136\t47\t125\t107\t62\t84\t17\t169\t107\t127\t98\t118\t172\t86\t84\t74\t118\t128\t33\t81\t87\t28\t123\t69\t108\t108\t97\t104\t74\t150\t50\t10\t101\t176\t122\t64\t160\t40\t86\t71\t119\t136\t142\t143\t122\t79\t122\t144\t159\t108\t78\t46\t88\t53\t119\t148\t14\t121\t104\t140\t124\t155\t54\t125\t184\t176\t142\t96\t68\t80\t20\t41\t116\t115\t136\t143\t146\t111\t39\t105\t120\t69\t55\t12\t122\t127\t161\t140\t101\t117\t80\t77\t25\t135\t154\t61\t116\t149\t109\t185\t129\t82\t78\t50\t149\t167\t97\t95\t130\t88\t104\t102\t58\t112\t67\t85\t143\t180\t26\t144\t98\t111\t73\t==23019== Profiling application: ./A\n",
      "==23019== Profiling result:\n",
      "            Type  Time(%)      Time     Calls       Avg       Min       Max  Name\n",
      " GPU activities:   45.52%  6.4960us         3  2.1650us  1.9840us  2.5280us  [CUDA memcpy HtoD]\n",
      "                   36.10%  5.1520us         1  5.1520us  5.1520us  5.1520us  ad(int*, int*, int*)\n",
      "                   18.39%  2.6240us         1  2.6240us  2.6240us  2.6240us  [CUDA memcpy DtoH]\n",
      "      API calls:   99.49%  199.32ms         3  66.439ms  1.8450us  199.31ms  cudaMalloc\n",
      "                    0.25%  501.13us         1  501.13us  501.13us  501.13us  cuDeviceTotalMem\n",
      "                    0.11%  227.53us         1  227.53us  227.53us  227.53us  cudaLaunchKernel\n",
      "                    0.09%  186.71us        96  1.9440us     122ns  81.237us  cuDeviceGetAttribute\n",
      "                    0.04%  75.925us         4  18.981us  12.778us  27.158us  cudaMemcpy\n",
      "                    0.01%  26.103us         1  26.103us  26.103us  26.103us  cuDeviceGetName\n",
      "                    0.00%  5.9320us         1  5.9320us  5.9320us  5.9320us  cuDeviceGetPCIBusId\n",
      "                    0.00%  1.8530us         3     617ns     171ns     928ns  cuDeviceGetCount\n",
      "                    0.00%  1.6010us         2     800ns     316ns  1.2850us  cuDeviceGet\n"
     ]
    }
   ],
   "source": [
    "!nvcc /content/src/Add_vec_Nbloc_1Thread.cu -o A\n",
    "!nvprof ./A"
   ]
  },
  {
   "cell_type": "markdown",
   "metadata": {
    "id": "HD_cPrDe_Nv-"
   },
   "source": [
    "<h5><center> Temps d'execution  avec 1 bloc et N thread\n",
    "</center></h5>     \n"
   ]
  },
  {
   "cell_type": "code",
   "execution_count": 123,
   "metadata": {
    "colab": {
     "base_uri": "https://localhost:8080/"
    },
    "id": "Vu4Mk3OE9IBT",
    "outputId": "0c86f8fa-636d-4719-e7eb-1210b776346f"
   },
   "outputs": [
    {
     "name": "stdout",
     "output_type": "stream",
     "text": [
      "\n",
      "  elements of first array :\n",
      "83\t86\t77\t15\t93\t35\t86\t92\t49\t21\t62\t27\t90\t59\t63\t26\t40\t26\t72\t36\t11\t68\t67\t29\t82\t30\t62\t23\t67\t35\t29\t2\t22\t58\t69\t67\t93\t56\t11\t42\t29\t73\t21\t19\t84\t37\t98\t24\t15\t70\t13\t26\t91\t80\t56\t73\t62\t70\t96\t81\t5\t25\t84\t27\t36\t5\t46\t29\t13\t57\t24\t95\t82\t45\t14\t67\t34\t64\t43\t50\t87\t8\t76\t78\t88\t84\t3\t51\t54\t99\t32\t60\t76\t68\t39\t12\t26\t86\t94\t39\t95\t70\t34\t78\t67\t1\t97\t2\t17\t92\t52\t56\t1\t80\t86\t41\t65\t89\t44\t19\t40\t29\t31\t17\t97\t71\t81\t75\t9\t27\t67\t56\t97\t53\t86\t65\t6\t83\t19\t24\t28\t71\t32\t29\t3\t19\t70\t68\t8\t15\t40\t49\t96\t23\t18\t45\t46\t51\t21\t55\t79\t88\t64\t28\t41\t50\t93\t0\t34\t64\t24\t14\t87\t56\t43\t91\t27\t65\t59\t36\t32\t51\t37\t28\t75\t7\t74\t21\t58\t95\t29\t37\t35\t93\t18\t28\t43\t11\t28\t29\t76\t4\t43\t63\t13\t38\t6\t40\t4\t18\t28\t88\t69\t17\t17\t96\t24\t43\t70\t83\t90\t99\t72\t25\t44\t90\t5\t39\t54\t86\t69\t82\t42\t64\t97\t7\t55\t4\t48\t11\t22\t28\t99\t43\t46\t68\t40\t22\t11\t10\t5\t1\t61\t30\t78\t5\t20\t36\t44\t26\t22\t65\t8\t16\t82\t58\t24\t37\t62\t24\t0\t36\t52\t99\t79\t50\t68\t71\t73\t31\t81\t30\t33\t94\t60\t63\t99\t81\t99\t96\t59\t73\t13\t68\t90\t95\t26\t66\t84\t40\t90\t84\t76\t42\t36\t7\t45\t56\t79\t18\t87\t12\t48\t72\t59\t9\t36\t10\t42\t87\t6\t1\t13\t72\t21\t55\t19\t99\t21\t4\t39\t11\t40\t67\t5\t28\t27\t50\t84\t58\t20\t24\t22\t69\t96\t81\t30\t84\t92\t72\t72\t50\t25\t85\t22\t99\t40\t42\t98\t13\t98\t90\t24\t90\t9\t81\t19\t36\t32\t55\t94\t4\t79\t69\t73\t76\t50\t55\t60\t42\t79\t84\t93\t5\t21\t67\t4\t13\t61\t54\t26\t59\t44\t2\t2\t6\t84\t21\t42\t68\t28\t89\t72\t8\t58\t98\t36\t8\t53\t48\t3\t33\t33\t48\t90\t54\t67\t46\t68\t29\t0\t46\t88\t97\t49\t90\t3\t33\t63\t97\t53\t92\t86\t25\t52\t96\t75\t88\t57\t29\t36\t60\t14\t21\t60\t4\t28\t27\t50\t48\t56\t2\t94\t97\t99\t43\t39\t2\t28\t3\t0\t81\t47\t38\t59\t51\t35\t34\t39\t92\t15\t27\t4\t29\t49\t64\t85\t29\t43\t35\t77\t0\t38\t71\t49\t89\t67\t88\t92\t95\t43\t44\t29\t90\t82\t40\t41\t69\t26\t32\t61\t42\t60\t17\t23\t61\t81\t9\t90\t25\t96\t67\t\n",
      "  elements of second array :\n",
      "77\t34\t90\t26\t24\t57\t14\t68\t5\t58\t12\t86\t0\t46\t26\t94\t16\t52\t78\t29\t46\t90\t47\t70\t51\t80\t31\t93\t57\t27\t12\t86\t14\t55\t12\t90\t12\t79\t10\t69\t89\t74\t55\t41\t20\t33\t87\t88\t38\t66\t70\t84\t56\t17\t6\t60\t49\t37\t5\t59\t17\t18\t45\t83\t73\t58\t73\t37\t89\t83\t7\t78\t57\t14\t71\t29\t0\t59\t18\t38\t25\t88\t74\t33\t57\t81\t93\t58\t70\t99\t17\t39\t69\t63\t22\t94\t73\t47\t31\t62\t82\t90\t92\t91\t57\t15\t21\t57\t74\t91\t47\t51\t31\t21\t37\t40\t54\t30\t98\t25\t81\t16\t16\t2\t31\t39\t96\t4\t38\t80\t18\t21\t70\t62\t12\t79\t77\t85\t36\t4\t76\t83\t7\t59\t57\t44\t99\t11\t27\t50\t36\t60\t18\t5\t63\t49\t44\t11\t5\t34\t91\t75\t55\t14\t89\t68\t93\t18\t5\t82\t22\t82\t17\t30\t93\t74\t26\t93\t86\t53\t43\t74\t14\t13\t79\t77\t62\t75\t88\t19\t10\t32\t94\t17\t46\t35\t37\t91\t53\t43\t73\t28\t25\t91\t10\t18\t17\t36\t63\t55\t90\t58\t30\t4\t71\t61\t33\t85\t89\t73\t4\t51\t5\t50\t68\t3\t85\t6\t95\t39\t49\t20\t67\t26\t63\t77\t96\t81\t65\t60\t36\t55\t70\t18\t11\t42\t32\t96\t79\t21\t70\t84\t72\t27\t34\t40\t83\t72\t98\t30\t63\t47\t50\t30\t73\t14\t59\t22\t47\t24\t82\t35\t32\t4\t54\t43\t98\t86\t40\t78\t59\t62\t62\t83\t41\t48\t23\t24\t72\t22\t54\t35\t21\t57\t65\t47\t71\t76\t69\t18\t1\t3\t53\t33\t7\t59\t28\t6\t97\t20\t84\t8\t34\t98\t91\t76\t98\t15\t52\t71\t89\t59\t6\t10\t16\t24\t9\t39\t0\t78\t9\t53\t81\t14\t38\t89\t26\t67\t47\t23\t87\t31\t32\t22\t81\t75\t50\t79\t90\t54\t50==23069== NVPROF is profiling process 23069, command: ./A\n",
      "\t31\t13\t57\t94\t81\t81\t3\t20\t33\t82\t81\t87\t15\t96\t25\t4\t22\t92\t51\t97\t32\t34\t81\t6\t15\t57\t8\t95\t99\t62\t97\t83\t76\t54\t77\t9\t87\t32\t82\t21\t66\t63\t60\t82\t11\t85\t86\t85\t30\t90\t83\t14\t76\t16\t20\t92\t25\t28\t39\t25\t90\t36\t60\t18\t43\t37\t28\t82\t21\t10\t55\t88\t25\t15\t70\t37\t53\t8\t22\t83\t50\t57\t97\t27\t26\t69\t71\t51\t49\t10\t28\t39\t98\t88\t10\t93\t77\t90\t76\t99\t52\t31\t87\t77\t99\t57\t66\t52\t17\t41\t35\t68\t98\t84\t95\t76\t5\t66\t28\t54\t28\t8\t93\t78\t97\t55\t72\t74\t45\t0\t25\t97\t83\t12\t27\t82\t21\t93\t34\t39\t34\t21\t59\t85\t57\t54\t61\t62\t72\t41\t16\t52\t50\t62\t82\t99\t17\t54\t73\t15\t6\tlLes Variables de device GPUallocation du mamoire de GPUcopy data de CPU ver GPU exeucion sur gpu de fonction addle resultat est :\n",
      "160\t120\t167\t41\t117\t92\t100\t160\t54\t79\t74\t113\t90\t105\t89\t120\t56\t78\t150\t65\t57\t158\t114\t99\t133\t110\t93\t116\t124\t62\t41\t88\t36\t113\t81\t157\t105\t135\t21\t111\t118\t147\t76\t60\t104\t70\t185\t112\t53\t136\t83\t110\t147\t97\t62\t133\t111\t107\t101\t140\t22\t43\t129\t110\t109\t63\t119\t66\t102\t140\t31\t173\t139\t59\t85\t96\t34\t123\t61\t88\t112\t96\t150\t111\t145\t165\t96\t109\t124\t198\t49\t99\t145\t131\t61\t106\t99\t133\t125\t101\t177\t160\t126\t169\t124\t16\t118\t59\t91\t183\t99\t107\t32\t101\t123\t81\t119\t119\t142\t44\t121\t45\t47\t19\t128\t110\t177\t79\t47\t107\t85\t77\t167\t115\t98\t144\t83\t168\t55\t28\t104\t154\t39\t88\t60\t63\t169\t79\t35\t65\t76\t109\t114\t28\t81\t94\t90\t62\t26\t89\t170\t163\t119\t42\t130\t118\t186\t18\t39\t146\t46\t96\t104\t86\t136\t165\t53\t158\t145\t89\t75\t125\t51\t41\t154\t84\t136\t96\t146\t114\t39\t69\t129\t110\t64\t63\t80\t102\t81\t72\t149\t32\t68\t154\t23\t56\t23\t76\t67\t73\t118\t146\t99\t21\t88\t157\t57\t128\t159\t156\t94\t150\t77\t75\t112\t93\t90\t45\t149\t125\t118\t102\t109\t90\t160\t84\t151\t85\t113\t71\t58\t83\t169\t61\t57\t110\t72\t118\t90\t31\t75\t85\t133\t57\t112\t45\t103\t108\t142\t56\t85\t112\t58\t46\t155\t72\t83\t59\t109\t48\t82\t71\t84\t103\t133\t93\t166\t157\t113\t109\t140\t92\t95\t177\t101\t111\t122\t105\t171\t118\t113\t108==23069== Profiling application: ./A\n",
      "==23069== Profiling result:\n",
      "            Type  Time(%)      Time     Calls       Avg       Min       Max  Name\n",
      " GPU activities:   53.28%  6.4960us         3  2.1650us  1.9840us  2.5280us  [CUDA memcpy HtoD]\n",
      "                   25.20%  3.0720us         1  3.0720us  3.0720us  3.0720us  ad(int*, int*, int*)\n",
      "                   21.52%  2.6240us         1  2.6240us  2.6240us  2.6240us  [CUDA memcpy DtoH]\n",
      "\t34\t125\t155\t142\t97\t142\t153\t58\t91\t87\t129\t75\t43\t66\t73\t62\t176\t38\t171\t20\t82\t170\t150\t85\t134\t25\t94\t158\t95\t60\t19\t82\t37\t79\t28\t138\t21\t82\t48\t64\t121\t81\t43\t117\t53\t117\t131\t81\t107\t55\t54\t91\t177\t156\t80\t163\t182\t126\t122\t81\t38\t142\t116\t180\t121\t45\t118\t46\t180\t171\t111\t105\t105\t106\t23\t58\t124\t106\t191\t36\t113\t150\t79\t91\t107\t63\t155\t141\t141\t181\t176\t81\t75\t144\t13\t100\t93\t136\t47\t125\t107\t62\t84\t17\t169\t107\t127\t98\t118\t172\t86\t84\t74\t118\t128\t33\t81\t87\t28\t123\t69\t108\t108\t97\t104\t74\t150\t50\t10\t101\t176\t122\t64\t160\t40\t86\t71\t119\t136\t142\t143\t122\t79\t122\t144\t159\t108\t78\t46\t88\t53\t119\t148\t14\t121\t104\t140\t124\t155\t54\t125\t184\t176\t142\t96\t68\t80\t20\t41\t116\t115\t136\t143\t146\t111\t39\t105\t120\t69\t55\t12\t122\t127\t161\t140\t101\t117\t80\t77\t25\t135\t154\t61\t116\t149\t109\t185\t129\t82\t78\t50\t149\t167\t97\t95\t130\t88\t104\t102\t58\t112\t67\t85\t143\t180\t26\t144\t98\t111\t73\t      API calls:   99.48%  186.81ms         3  62.270ms  1.8880us  186.81ms  cudaMalloc\n",
      "                    0.25%  473.81us         1  473.81us  473.81us  473.81us  cuDeviceTotalMem\n",
      "                    0.11%  203.82us        96  2.1230us     124ns  90.613us  cuDeviceGetAttribute\n",
      "                    0.09%  167.95us         1  167.95us  167.95us  167.95us  cudaLaunchKernel\n",
      "                    0.05%  98.978us         4  24.744us  12.137us  36.627us  cudaMemcpy\n",
      "                    0.02%  30.293us         1  30.293us  30.293us  30.293us  cuDeviceGetName\n",
      "                    0.00%  6.0360us         1  6.0360us  6.0360us  6.0360us  cuDeviceGetPCIBusId\n",
      "                    0.00%  1.9640us         3     654ns     148ns     966ns  cuDeviceGetCount\n",
      "                    0.00%  1.8530us         2     926ns     267ns  1.5860us  cuDeviceGet\n"
     ]
    }
   ],
   "source": [
    "!nvcc /content/src/Add_vec1bloc_N_thread.cu -o A\n",
    "!nvprof ./A"
   ]
  },
  {
   "cell_type": "markdown",
   "metadata": {
    "id": "eR81yTGKGnVW"
   },
   "source": [
    " ### Temps d'execution 8 blok 64 Thread`\n",
    "  \n",
    " \n"
   ]
  },
  {
   "cell_type": "code",
   "execution_count": 124,
   "metadata": {
    "colab": {
     "base_uri": "https://localhost:8080/"
    },
    "id": "03Dd9c_H_bOZ",
    "outputId": "01e8cf7d-8be0-49e0-a1c2-53be5dae769f"
   },
   "outputs": [
    {
     "name": "stdout",
     "output_type": "stream",
     "text": [
      "/content/src/Add_vec_8block_64Thread.cu(1): error: expected a declaration\n",
      "\n",
      "/usr/include/malloc.h(163): error: expected a declaration\n",
      "\n",
      "2 errors detected in the compilation of \"/tmp/tmpxft_00005a27_00000000-8_Add_vec_8block_64Thread.cpp1.ii\".\n",
      "\n",
      "  elements of first array :\n",
      "83\t86\t77\t15\t93\t35\t86\t92\t49\t21\t62\t27\t90\t59\t63\t26\t40\t26\t72\t36\t11\t68\t67\t29\t82\t30\t62\t23\t67\t35\t29\t2\t22\t58\t69\t67\t93\t56\t11\t42\t29\t73\t21\t19\t84\t37\t98\t24\t15\t70\t13\t26\t91\t80\t56\t73\t62\t70\t96\t81\t5\t25\t84\t27\t36\t5\t46\t29\t13\t57\t24\t95\t82\t45\t14\t67\t34\t64\t43\t50\t87\t8\t76\t78\t88\t84\t3\t51\t54\t99\t32\t60\t76\t68\t39\t12\t26\t86\t94\t39\t95\t70\t34\t78\t67\t1\t97\t2\t17\t92\t52\t56\t1\t80\t86\t41\t65\t89\t44\t19\t40\t29\t31\t17\t97\t71\t81\t75\t9\t27\t67\t56\t97\t53\t86\t65\t6\t83\t19\t24\t28\t71\t32\t29\t3\t19\t70\t68\t8\t15\t40\t49\t96\t23\t18\t45\t46\t51\t21\t55\t79\t88\t64\t28\t41\t50\t93\t0\t34\t64\t24\t14\t87\t56\t43\t91\t27\t65\t59\t36\t32\t51\t37\t28\t75\t7\t74\t21\t58\t95\t29\t37\t35\t93\t18\t28\t43\t11\t28\t29\t76\t4\t43\t63\t13\t38\t6\t40\t4\t18\t28\t88\t69\t17\t17\t96\t24\t43\t70\t83\t90\t99\t72\t25\t44\t90\t5\t39\t54\t86\t69\t82\t42\t64\t97\t7\t55\t4\t48\t11\t22\t28\t99\t43\t46\t68\t40\t22\t11\t10\t5\t1\t61\t30\t78\t5\t20\t36\t44\t26\t22\t65\t8\t16\t82\t58\t24\t37\t62\t24\t0\t36\t52\t99\t79\t50\t68\t71\t73\t31\t81\t30\t33\t94\t60\t63\t99\t81\t99\t96\t59\t73\t13\t68\t90\t95\t26\t66\t84\t40\t90\t84\t76\t42\t36\t7\t45\t56\t79\t18\t87\t12\t48\t72\t59\t9\t36\t10\t42\t87\t6\t1\t13\t72\t21\t55\t19\t99\t21\t4\t39\t11\t40\t67\t5\t28\t27\t50\t84\t58\t20\t24\t22\t69\t96\t81\t30\t84\t92\t72\t72\t50\t25\t85\t22\t99\t40\t42\t98\t13\t98\t90\t24\t90\t9\t81\t19\t36\t32\t55\t94\t4\t79\t69\t73\t76\t50\t55\t60\t42\t79\t84\t93\t5\t21\t67\t4\t13\t61\t54\t26\t59\t44\t2\t2\t6\t84\t21\t42\t68\t28\t89\t72\t8\t58\t98\t36\t8\t53\t48\t3\t33\t33\t48\t90\t54\t67\t46\t68\t29\t0\t46\t88\t97\t49\t90\t3\t33\t63\t97\t53\t92\t86\t25\t52\t96\t75\t88\t57\t29\t36\t60\t14\t21\t60\t4\t28\t27\t50\t48\t56\t2\t94\t97\t99\t43\t39\t2\t28\t3\t0\t81\t47\t38\t59\t51\t35\t34\t39\t92\t15\t27\t4\t29\t49\t64\t85\t29\t43\t35\t77\t0\t38\t71\t49\t89\t67\t88\t92\t95\t43\t44\t29\t90\t82\t40\t41\t69\t26\t32\t61\t42\t60\t17\t23\t61\t81\t9\t90\t25\t96\t67\t\n",
      "  elements of second array :\n",
      "77\t34\t90\t26\t24\t57\t14\t68\t5\t58\t12\t86\t0\t46\t26\t94\t16\t52\t78\t29\t46\t90\t47\t70\t51\t80\t31\t93\t57\t27\t12\t86\t14\t55\t12\t90\t12\t79\t10\t69\t89\t74\t55\t41\t20\t33\t87\t88\t38\t66\t70\t84\t56\t17\t6\t60\t49\t37\t5\t59\t17\t18\t45\t83\t73\t58\t73\t37\t89\t83\t7\t78\t57\t14\t71\t29\t0\t59\t18\t38\t25\t88\t74\t33\t57\t81\t93\t58\t70\t99\t17\t39\t69\t63\t22\t94\t73\t47\t31\t62\t82\t90\t92\t91\t57\t15\t21\t57\t74\t91\t47\t51\t31\t21\t37\t40\t54\t30\t98\t25\t81\t16\t16\t2\t31\t39\t96\t4\t38\t80\t18\t21\t70\t62\t12\t79\t77\t85\t36\t4\t76\t83\t7\t59\t57\t44\t99\t11\t27\t50\t36\t60\t18\t5\t63\t49\t44\t11\t5\t34\t91\t75\t55\t14\t89\t68\t93\t18\t5\t82\t22\t82\t17\t30\t93\t74\t26\t93\t86\t53\t43\t74\t14\t13\t79\t77\t62\t75\t88\t19\t10\t32\t94\t17\t46\t35\t37\t91\t53\t43\t73\t28\t25\t91\t10\t18\t17\t36\t63\t55\t90\t58\t30\t4\t71\t61\t33\t85\t89\t73\t4\t51\t5\t50\t68\t3\t85\t6\t95\t39\t49\t20\t67\t26\t63\t77\t96\t81\t65\t60\t36\t55\t70\t18\t11\t42\t32\t96\t79\t21\t70\t84\t72\t27\t34\t40\t83\t72\t98\t30\t63\t47\t50\t30\t73\t14\t59\t22\t47\t24\t82\t35\t32\t4\t54\t43\t98\t86\t40\t78\t59\t62\t62\t83\t41\t48\t23\t24\t72\t22\t54\t35\t21\t57\t65\t47\t71\t76\t69\t18\t1\t3\t53\t33\t7\t59\t28\t6\t97\t20\t84\t8\t34\t98\t91\t76\t98\t15\t52\t71\t89\t59\t6\t10\t16\t24\t9\t39\t0\t78\t9\t53\t81\t14\t38\t89\t26\t67\t47\t23\t87\t31\t32\t22\t81\t75\t50\t79\t90\t54\t50==23090== NVPROF is profiling process 23090, command: ./A\n",
      "\t31\t13\t57\t94\t81\t81\t3\t20\t33\t82\t81\t87\t15\t96\t25\t4\t22\t92\t51\t97\t32\t34\t81\t6\t15\t57\t8\t95\t99\t62\t97\t83\t76\t54\t77\t9\t87\t32\t82\t21\t66\t63\t60\t82\t11\t85\t86\t85\t30\t90\t83\t14\t76\t16\t20\t92\t25\t28\t39\t25\t90\t36\t60\t18\t43\t37\t28\t82\t21\t10\t55\t88\t25\t15\t70\t37\t53\t8\t22\t83\t50\t57\t97\t27\t26\t69\t71\t51\t49\t10\t28\t39\t98\t88\t10\t93\t77\t90\t76\t99\t52\t31\t87\t77\t99\t57\t66\t52\t17\t41\t35\t68\t98\t84\t95\t76\t5\t66\t28\t54\t28\t8\t93\t78\t97\t55\t72\t74\t45\t0\t25\t97\t83\t12\t27\t82\t21\t93\t34\t39\t34\t21\t59\t85\t57\t54\t61\t62\t72\t41\t16\t52\t50\t62\t82\t99\t17\t54\t73\t15\t6\tlLes Variables de device GPUallocation du mamoire de GPUcopy data de CPU ver GPU exeucion sur gpu de fonction addle resultat est :\n",
      "160\t120\t167\t41\t117\t92\t100\t160\t54\t79\t74\t113\t90\t105\t89\t120\t56\t78\t150\t65\t57\t158\t114\t99\t133\t110\t93\t116\t124\t62\t41\t88\t36\t113\t81\t157\t105\t135\t21\t111\t118\t147\t76\t60\t104\t70\t185\t112\t53\t136\t83\t110\t147\t97\t62\t133\t111\t107\t101\t140\t22\t43\t129\t110\t109\t63\t119\t66\t102\t140\t31\t173\t139\t59\t85\t96\t34\t123\t61\t88\t112\t96\t150\t111\t145\t165\t96\t109\t124\t198\t49\t99\t145\t131\t61\t106\t99\t133\t125\t101\t177\t160\t126\t169\t124\t16\t118\t59\t91\t183\t99\t107\t32\t101\t123\t81\t119\t119\t142\t44\t121\t45\t47\t19\t128\t110\t177\t79\t47\t107\t85\t77\t167\t115\t98\t144\t83\t168\t55\t28\t104\t154\t39\t88\t60\t63\t169\t79\t35\t65\t76\t109\t114\t28\t81\t94\t90\t62\t26\t89\t170\t163\t119\t42\t130\t118\t186\t18\t39\t146\t46\t96\t104\t86\t136\t165\t53\t158\t145\t89\t75\t125\t51\t41\t154\t84\t136\t96\t146\t114\t39\t69\t129\t110\t64\t63\t80\t102\t81\t72\t149\t32\t68\t154\t23\t56\t23\t76\t67\t73\t118\t146\t99\t21\t88\t157\t57\t128\t159\t156\t94\t150\t77\t75\t112\t93\t90\t45\t149\t125\t118\t102\t109\t90\t160\t84\t151\t85\t113\t71\t58\t83\t169\t61\t57\t110\t72\t118\t90\t31\t75\t85\t133\t57\t112\t45\t103\t108\t142\t56\t85\t112\t58\t46\t155\t72\t83\t59\t109\t48\t82\t71\t84\t103\t133\t93\t166\t157\t113\t109\t140\t92\t95\t177\t101\t111\t122\t105\t171\t118\t113\t108\t34\t125\t155\t142\t97\t142\t153\t58\t91\t87\t129\t75\t43\t66\t73\t62\t176\t38\t171\t20\t82\t170\t150\t85\t134\t25\t94\t158\t95\t60\t19\t82\t37\t79\t28\t138\t21\t82\t48\t64\t121\t81\t43\t117\t53\t117\t131\t81\t107\t55\t54\t91\t177\t156\t80\t163\t182\t126\t122\t81\t38\t142\t116\t180\t121\t45\t118\t46\t180\t171\t111\t105\t105\t106\t23\t58\t124\t106\t191\t36\t113\t150\t79\t91\t107\t63\t155\t141\t141\t181\t176\t81\t75\t144\t13\t100\t93\t136\t47\t125\t107\t62\t84\t17\t169\t107\t127\t98\t118\t172\t86\t84\t74\t118\t128\t33\t81\t87\t28\t123\t69\t108\t108\t97\t104\t74\t150\t50\t10\t101\t176\t122\t64\t160\t40\t86\t71\t119\t136\t142\t143\t122\t79\t122\t144\t159\t108\t78\t46\t88\t53\t119\t148\t14\t121\t104\t140\t124\t155\t54\t125\t184\t176\t142\t96\t68\t80\t20\t41\t116\t115\t136\t143\t146\t111\t39\t105\t120\t69\t55\t12\t122\t127\t161\t140\t101\t117\t80\t77\t25\t135\t154\t61\t116\t149\t109\t185\t129\t82\t78\t50\t149\t167\t97\t95\t130\t88\t104\t102\t58\t112\t67\t85\t143\t180\t26\t144\t98\t111\t73\t==23090== Profiling application: ./A\n",
      "==23090== Profiling result:\n",
      "            Type  Time(%)      Time     Calls       Avg       Min       Max  Name\n",
      " GPU activities:   54.22%  6.7840us         3  2.2610us  1.9840us  2.6560us  [CUDA memcpy HtoD]\n",
      "                   24.55%  3.0720us         1  3.0720us  3.0720us  3.0720us  ad(int*, int*, int*)\n",
      "                   21.23%  2.6560us         1  2.6560us  2.6560us  2.6560us  [CUDA memcpy DtoH]\n",
      "      API calls:   99.50%  193.87ms         3  64.624ms  1.7250us  193.87ms  cudaMalloc\n",
      "                    0.26%  503.01us         1  503.01us  503.01us  503.01us  cuDeviceTotalMem\n",
      "                    0.11%  206.31us        96  2.1490us     107ns  96.219us  cuDeviceGetAttribute\n",
      "                    0.08%  156.40us         1  156.40us  156.40us  156.40us  cudaLaunchKernel\n",
      "                    0.04%  76.709us         4  19.177us  13.132us  26.128us  cudaMemcpy\n",
      "                    0.01%  25.939us         1  25.939us  25.939us  25.939us  cuDeviceGetName\n",
      "                    0.00%  5.9550us         1  5.9550us  5.9550us  5.9550us  cuDeviceGetPCIBusId\n",
      "                    0.00%  1.8420us         3     614ns     157ns  1.0370us  cuDeviceGetCount\n",
      "                    0.00%  1.6090us         2     804ns     303ns  1.3060us  cuDeviceGet\n"
     ]
    }
   ],
   "source": [
    "!nvcc /content/src/Add_vec_8block_64Thread.cu -o A\n",
    "!nvprof ./A"
   ]
  },
  {
   "cell_type": "markdown",
   "metadata": {
    "id": "hdpKZSeDQBsU"
   },
   "source": [
    " ### produit scalaire"
   ]
  },
  {
   "cell_type": "code",
   "execution_count": 125,
   "metadata": {
    "colab": {
     "base_uri": "https://localhost:8080/"
    },
    "id": "4BKOSWnhP2tA",
    "outputId": "0dca5dca-114a-48af-8aeb-20f9a1025564"
   },
   "outputs": [
    {
     "name": "stdout",
     "output_type": "stream",
     "text": [
      "Le produit scalaire est : 512 \n",
      "\n"
     ]
    }
   ],
   "source": [
    "%%cu\n",
    "#include<stdio.h>\n",
    "#include<cuda.h>\n",
    "#include <stdlib.h> \n",
    "#define N 512\n",
    "__global__ void dot(int *a , int *b , int *c){\n",
    "\n",
    "\n",
    "    __shared__ int temp[N];\n",
    "\n",
    "    temp[blockDim.x * blockIdx.x + threadIdx.x] = a[blockDim.x * blockIdx.x + threadIdx.x] * b[blockDim.x * blockIdx.x + threadIdx.x ] ;\n",
    "\n",
    "     __syncthreads();\n",
    "\n",
    "    if(0==threadIdx.x){\n",
    "          int sum = 0;\n",
    "          for(int i = 0; i < N ; i++)\n",
    "                sum = sum +temp[i];\n",
    "\n",
    "                *c = sum ;\n",
    "    }\n",
    "}\n",
    "\n",
    "\n",
    "\n",
    "\n",
    "int main (){\n",
    " int *a , *b, *c;\n",
    " int *d_a , *d_b ,*d_c ;\n",
    " int size = N * sizeof (int);\n",
    "\n",
    "\n",
    " cudaMalloc((void**)&d_a,size);\n",
    " cudaMalloc((void**)&d_b,size);\n",
    " cudaMalloc((void**)&d_c,size);\n",
    "\n",
    " a=(int *)malloc(size);\n",
    " b=(int *)malloc(size);\n",
    " c=(int *)malloc(size);  \n",
    "\n",
    " \n",
    "    for(int i=0;i<N;i++)\n",
    "    {   \n",
    "        \n",
    "       a[i]=1;\n",
    "    \n",
    "    }\n",
    "   \n",
    "        for(int i=0;i<N;i++)\n",
    "        {\n",
    "            b[i]=1;\n",
    "        }\n",
    "\n",
    "\n",
    "\n",
    "\n",
    "cudaMemcpy(d_a,a,size,cudaMemcpyHostToDevice);\n",
    "cudaMemcpy(d_b,b,size,cudaMemcpyHostToDevice);\n",
    "\n",
    "dot<<<1,N>>>(d_a,d_b,d_c);\n",
    " \n",
    "cudaMemcpy(c,d_c,size,cudaMemcpyDeviceToHost);\n",
    "\n",
    " printf(\"Le produit scalaire est : %d \\n\", *c) ;\n",
    "\n",
    "free(a);free(b);free(c);\n",
    "\n",
    "cudaFree(d_a);\n",
    "cudaFree(d_b);\n",
    "cudaFree(d_c);\n",
    "\n",
    "return 0;\n",
    "}"
   ]
  },
  {
   "cell_type": "markdown",
   "metadata": {},
   "source": [
    "### temps d'execution  de produit Sclaire"
   ]
  },
  {
   "cell_type": "code",
   "execution_count": 126,
   "metadata": {
    "colab": {
     "base_uri": "https://localhost:8080/"
    },
    "id": "l_NEBl74O6_W",
    "outputId": "2f611276-62a7-464b-e98e-fe17f952cde0"
   },
   "outputs": [
    {
     "name": "stdout",
     "output_type": "stream",
     "text": [
      "==23180== NVPROF is profiling process 23180, command: ./A\n",
      "==23180== Warning: Profiling results might be incorrect with current version of nvcc compiler used to compile cuda app. Compile with nvcc compiler 9.0 or later version to get correct profiling results. Ignore this warning if code is already compiled with the recommended nvcc version \n",
      "==23180== Profiling application: ./A\n",
      "==23180== Profiling result:\n",
      "            Type  Time(%)      Time     Calls       Avg       Min       Max  Name\n",
      " GPU activities:   63.81%  12.864us         1  12.864us  12.864us  12.864us  dot(int*, int*, int*)\n",
      "                   22.22%  4.4800us         2  2.2400us  1.9840us  2.4960us  [CUDA memcpy HtoD]\n",
      "                   13.97%  2.8160us         1  2.8160us  2.8160us  2.8160us  [CUDA memcpy DtoH]\n",
      "      API calls:   99.36%  192.10ms         3  64.034ms  1.9560us  192.09ms  cudaMalloc\n",
      "                    0.27%  527.92us         1  527.92us  527.92us  527.92us  cuDeviceTotalMem\n",
      "                    0.13%  248.93us         1  248.93us  248.93us  248.93us  cudaLaunchKernel\n",
      "                    0.10%  198.50us        96  2.0670us     134ns  83.474us  cuDeviceGetAttribute\n",
      "                    0.07%  130.94us         3  43.648us  2.9260us  117.89us  cudaFree\n",
      "                    0.03%  64.535us         3  21.511us  12.781us  32.349us  cudaMemcpy\n",
      "                    0.03%  54.587us         1  54.587us  54.587us  54.587us  cuDeviceGetName\n",
      "                    0.00%  7.0440us         1  7.0440us  7.0440us  7.0440us  cuDeviceGetPCIBusId\n",
      "                    0.00%  2.1920us         3     730ns     158ns  1.1690us  cuDeviceGetCount\n",
      "                    0.00%  1.3590us         2     679ns     254ns  1.1050us  cuDeviceGet\n"
     ]
    }
   ],
   "source": [
    "!nvcc /content/src/produit_scalaire.cu -o A\n",
    "!nvprof ./A"
   ]
  }
 ],
 "metadata": {
  "accelerator": "GPU",
  "colab": {
   "name": "Tp2_CUDA_Bouibauan_Mohamed.ipynb",
   "provenance": []
  },
  "kernelspec": {
   "display_name": "Python 3 (ipykernel)",
   "language": "python",
   "name": "python3"
  },
  "language_info": {
   "codemirror_mode": {
    "name": "ipython",
    "version": 3
   },
   "file_extension": ".py",
   "mimetype": "text/x-python",
   "name": "python",
   "nbconvert_exporter": "python",
   "pygments_lexer": "ipython3",
   "version": "3.9.7"
  }
 },
 "nbformat": 4,
 "nbformat_minor": 1
}
